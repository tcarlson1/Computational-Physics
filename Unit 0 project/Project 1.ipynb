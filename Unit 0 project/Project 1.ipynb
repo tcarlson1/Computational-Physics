{
 "cells": [
  {
   "cell_type": "code",
   "execution_count": 1,
   "metadata": {},
   "outputs": [],
   "source": [
    "import numpy as np\n",
    "import matplotlib.pyplot as plt\n",
    "%matplotlib inline\n",
    "import pandas as pd\n",
    "from scipy.optimize import curve_fit \n",
    "from ipywidgets import interactive\n",
    "from scipy.integrate import quad"
   ]
  },
  {
   "cell_type": "markdown",
   "metadata": {},
   "source": [
    "# Background of the Fourier Series"
   ]
  },
  {
   "cell_type": "markdown",
   "metadata": {},
   "source": [
    "The Fourier Series gets its name from the French mathmatician Joseph Fourier (1768-1830), whose attempt to solve a problem in heat conduction required him to express a function as an infinite series of sine and cosine functions:"
   ]
  },
  {
   "cell_type": "markdown",
   "metadata": {},
   "source": [
    "$$f(x) = a_0+\\sum_{n=1}^{\\infty}{(a_n\\cos(nx)+b_n\\sin(nx))}$$"
   ]
  },
  {
   "cell_type": "markdown",
   "metadata": {},
   "source": [
    "This trigonmetric series had been investigated before by other mathmaticians such as Daniel Bernoulli and Leonard Euler as part of their investigations in astronomy and the vibration of strings but Jospeh Fourier's observations that some discontinous functions could be expressed as an infinite sum was a breakthrough in this area of mathmatics$^2$."
   ]
  },
  {
   "cell_type": "markdown",
   "metadata": {},
   "source": [
    "# What Is A Fourier Series?"
   ]
  },
  {
   "cell_type": "markdown",
   "metadata": {},
   "source": [
    "A Fourier series is an expansion of a periodic function f(x) in terms of an infinite sum of sines and cosines. Fourier series make use of the orthogonality relationships of the sine and cosine functions. The computation and study of Fourier series is known as harmonic analysis and is an extremely useful way to break up an arbitrary periodic function into a set of simple terms that can be plugged in, solved individually, and then recombined to obtain the solution to an original problem or an approximation to whatever accuracy is desired or practical$^1$. "
   ]
  },
  {
   "cell_type": "markdown",
   "metadata": {},
   "source": [
    "## Deriving the Frequency Domain Representation of the Fourier Series"
   ]
  },
  {
   "cell_type": "markdown",
   "metadata": {},
   "source": [
    "The Fourier Series is more easily understood when it is broken down into even and odd functions before attempting to generalize the function.\n",
    "\n",
    "An even function can be expressed as the sum of cosines of various frrequencies via the equation\n",
    "$$f_{even}(t) = a_0 + \\sum_{n=1}^{\\infty}{a_n\\cos(n\\omega_0t)} $$\n",
    "This is commonly called the synthesis equation since it shows how the function f(t) can be created by adding up the cosines.\n",
    "In order to find the magnitude of $a_n$, Both sides of this equation are multiplied by $\\cos(m\\omega_0t)$ (without justification) and integrated over one period T.\n",
    "$$\\int_{T} f_{even}(t)\\cos(m\\omega_0t)dt = \\int_{T} a_0 + \\sum_{n=1}^{\\infty}{a_n\\cos(n\\omega_0t)}$$\n",
    "Now switching the order of summation and integration on the right hand side, followed by an application of the trig identity $cos(a)cos(b)=½(cos(a+b)+cos(a-b))$ yields the equation\n",
    "$$\\int_{T} f_{even}(t)\\cos(m\\omega_0t)dt = \\frac{1}{2} \\sum_{n=0}^{\\infty}\\int_{T}{a_n\\cos((n+m)\\omega_0t)+cos((m-n)\\omega_0t)dt}$$\n",
    "for the sake of simplicity, considering cases where $m>=0$, then the function $\\cos((m+n)ω0t)$ has exactly $(m+n)$ complete oscillations in the interval of integration, T. When we integrate this function, the result is zero (because we are integrating over an an integer (greater than or equal to one) number of oscillations). This simplifies our result to\n",
    "$$\\int_{T} f_{even}(t)\\cos(m\\omega_0t)dt = \\frac{1}{2} \\sum_{n=0}^{\\infty}\\int_{T}{a_n\\cos((m-n)\\omega_0t)dt}$$\n",
    "Because this function is even, varies over time, and has exactly $|m-n|$ oscillations in the interval of integration except when $m=n$ in which case $\\cos(0)=1$.\n",
    "Upon taking a second look at the summation, we can see that as n goes from 0 to infinity, the only term that contributes to the summation is when $m=n$ when the integral equals T and thus the entire summation can be simplified to: \n",
    "$$\\int_{T} f_{even}(t)\\cos(m\\omega_0t)dt = \\frac{1}{2} a_nT$$\n",
    "$$a_n = \\frac{2}{T} \\int_{T} f_{even}(t)\\cos(m\\omega_0t)dt$$\n",
    "$$a_m = \\frac{2}{T} \\int_{T} f_{even}(t)\\cos(n\\omega_0t)dt$$\n",
    "For the special case where $m=0$:\n",
    "$$a_0T = \\int_{T} f_{even}(t)dt$$\n",
    "$$a_0 = \\frac{1}{T}\\int_{T} f_{even}(t)dt$$\n",
    "Which leads us to the conclusion that $a_0$ is the average value of the function."
   ]
  },
  {
   "cell_type": "markdown",
   "metadata": {},
   "source": [
    "An odd function can be represented by a fourier sine series\n",
    "$$f_{odd}(t) = \\sum_{n=1}^{\\infty}{b_n\\sin(n\\omega_0t)} $$\n",
    "Note that for odd functions, there can be no $b_0$ term expressing average since the average of an odd function over a single period is always zero."
   ]
  },
  {
   "cell_type": "markdown",
   "metadata": {},
   "source": [
    "The dervation closely follows that of even function, resulting in $b_n$ equaling\n",
    "$$b_n = \\frac{2}{T} \\int_{T} f_{odd}(t)\\sin(n\\omega_0t)dt$$\n"
   ]
  },
  {
   "cell_type": "markdown",
   "metadata": {},
   "source": [
    "# Example Using A Data Set"
   ]
  },
  {
   "cell_type": "markdown",
   "metadata": {},
   "source": [
    "Given the following equation and dataset as an example, we can try and see if the equations above can give us a value for $a_1, a_2, a_3,$ and $a_4$.\n",
    "$$V(t)=a_1\\sin(\\omega t)+a_2\\sin(2\\omega t)+a_3\\sin(3\\omega t)+a_4\\sin(4\\omega t)$$"
   ]
  },
  {
   "cell_type": "code",
   "execution_count": 2,
   "metadata": {},
   "outputs": [
    {
     "data": {
      "text/html": [
       "<div>\n",
       "<style scoped>\n",
       "    .dataframe tbody tr th:only-of-type {\n",
       "        vertical-align: middle;\n",
       "    }\n",
       "\n",
       "    .dataframe tbody tr th {\n",
       "        vertical-align: top;\n",
       "    }\n",
       "\n",
       "    .dataframe thead th {\n",
       "        text-align: right;\n",
       "    }\n",
       "</style>\n",
       "<table border=\"1\" class=\"dataframe\">\n",
       "  <thead>\n",
       "    <tr style=\"text-align: right;\">\n",
       "      <th></th>\n",
       "      <th>t (s)</th>\n",
       "      <th>V (volts)</th>\n",
       "    </tr>\n",
       "  </thead>\n",
       "  <tbody>\n",
       "    <tr>\n",
       "      <th>0</th>\n",
       "      <td>0.000000</td>\n",
       "      <td>0.00000</td>\n",
       "    </tr>\n",
       "    <tr>\n",
       "      <th>1</th>\n",
       "      <td>0.000005</td>\n",
       "      <td>0.02044</td>\n",
       "    </tr>\n",
       "    <tr>\n",
       "      <th>2</th>\n",
       "      <td>0.000010</td>\n",
       "      <td>0.04088</td>\n",
       "    </tr>\n",
       "    <tr>\n",
       "      <th>3</th>\n",
       "      <td>0.000015</td>\n",
       "      <td>0.06130</td>\n",
       "    </tr>\n",
       "    <tr>\n",
       "      <th>4</th>\n",
       "      <td>0.000020</td>\n",
       "      <td>0.08171</td>\n",
       "    </tr>\n",
       "  </tbody>\n",
       "</table>\n",
       "</div>"
      ],
      "text/plain": [
       "      t (s)  V (volts)\n",
       "0  0.000000    0.00000\n",
       "1  0.000005    0.02044\n",
       "2  0.000010    0.04088\n",
       "3  0.000015    0.06130\n",
       "4  0.000020    0.08171"
      ]
     },
     "execution_count": 2,
     "metadata": {},
     "output_type": "execute_result"
    }
   ],
   "source": [
    "file = pd.read_table('dataset.txt')\n",
    "file.head()"
   ]
  },
  {
   "cell_type": "code",
   "execution_count": 3,
   "metadata": {},
   "outputs": [
    {
     "data": {
      "image/png": "[encoded data removed]",
      "text/plain": [
       "<Figure size 432x288 with 1 Axes>"
      ]
     },
     "metadata": {},
     "output_type": "display_data"
    }
   ],
   "source": [
    "time = file['t (s)']\n",
    "volts = file['V (volts)']\n",
    "\n",
    "\n",
    "plt.figure()\n",
    "plt.title('Dataset')\n",
    "plt.xlabel('T (s)')\n",
    "plt.ylabel('V (volts)')\n",
    "plt.plot(time, volts, 'bo', label='dataset') \n",
    "plt.legend()\n",
    "plt.show()"
   ]
  },
  {
   "cell_type": "markdown",
   "metadata": {},
   "source": [
    "So let's try using the equation for finding the coefficent of an odd function to get values for our coefficients."
   ]
  },
  {
   "cell_type": "code",
   "execution_count": 7,
   "metadata": {},
   "outputs": [
    {
     "name": "stdout",
     "output_type": "stream",
     "text": [
      "0.020319066434007778\n"
     ]
    }
   ],
   "source": [
    "### I wanted to use the slider here to change the value of n but I couldn't get it to work ###\n",
    "def integrand(T, n, omega):\n",
    "    return np.sin(n*omega*T)\n",
    "T=.005\n",
    "n=1 ## By changing this value we can solve for a1, a2, etc.\n",
    "omega=2*np.pi/T\n",
    "int1=quad(integrand,0,.005,args=(n,omega)) # scipy.integrate.quad(function, lower_bound, upper_bound, arguments)\n",
    "coefficient=(2/T)*int1[0]*10**15\n",
    "\n",
    "print(coefficient)\n",
    "\n",
    "    "
   ]
  },
  {
   "cell_type": "markdown",
   "metadata": {},
   "source": [
    "The value that is printed above gets placed in the p0 (parameters) array and once we get values for $a1,a2,a3$,and $a4$, we can run a curve fit and test to see how close we got."
   ]
  },
  {
   "cell_type": "code",
   "execution_count": 8,
   "metadata": {},
   "outputs": [],
   "source": [
    "def series(t, a1 , a2, a3, a4, omega):\n",
    "    return a1*np.sin(omega*t)+a2*np.sin(2*omega*t)+a3*np.sin(3*omega*t)+a4*np.sin(4*omega*t)\n",
    "\n",
    "x1 = np.linspace(0,0.005,100)\n",
    "p0 =[.029,-.0194,.132,.476,2*np.pi/.005] #holds the parameters that we solved for in the above code cell.\n",
    "parameters, test = curve_fit(series, time, volts, maxfev=10000, p0=p0)\n",
    "\n",
    "model = series(time, *parameters)"
   ]
  },
  {
   "cell_type": "code",
   "execution_count": 9,
   "metadata": {},
   "outputs": [
    {
     "data": {
      "image/png": "[encoded data removed]",
      "text/plain": [
       "<Figure size 432x288 with 1 Axes>"
      ]
     },
     "metadata": {},
     "output_type": "display_data"
    }
   ],
   "source": [
    "plt.figure()\n",
    "plt.title('Dataset')\n",
    "plt.xlabel('T (s)')\n",
    "plt.ylabel('V (volts)')\n",
    "plt.plot(time, volts, 'bo', label='dataset')\n",
    "plt.plot(time, model,'y', label='curvefit') \n",
    "plt.legend()\n",
    "plt.show()"
   ]
  },
  {
   "cell_type": "markdown",
   "metadata": {},
   "source": [
    "As you can see, the curve fit is nice and snug within the shape of the original dataset."
   ]
  },
  {
   "cell_type": "markdown",
   "metadata": {},
   "source": [
    "# Equating the Trigonometric and Exponential Series"
   ]
  },
  {
   "cell_type": "markdown",
   "metadata": {},
   "source": [
    "In order to determine the relationship of $c_n$ to $a_n$ and $b_n$, we can set the two functions equal to each other.\n",
    "$$a_0+\\sum_{n=1}^{\\infty}{(a_n\\cos(nx)+b_n\\sin(nx))}=\\sum_{n=-\\infty}^{\\infty} c_ne^{in\\omega_0t}$$\n",
    "\n",
    "If we only consider the parts of the signal that oscillate some number of times in a single period T, then we can see that:\n",
    "$$a_n\\cos(nx)+b_n\\sin(nx)= c_{-n}e^{-in\\omega_0t}+c_{n}e^{in\\omega_0t}$$\n",
    "\n",
    "Since the left hand side of this equation is real, the right side of the equation must also be real. We can reconcile this due to the fact that $e^{-in\\omega_0t}$ is the complex conjugate of $e^{in\\omega_0t}$ so $c_{-n}$ must be the complex conjugate of $c_n$ and thus the imaginary parts of the equation will cancel out when added together. Using Euler's identites for sine and cosine, we can expand the right hand side of the equation to:\n",
    "$$a_n\\cos(nx)+b_n\\sin(nx)=(c_{nreal}-ic_{nimaginary})(\\cos(n\\omega_0t)-i\\sin(n\\omega_0t))+(c_{nreal}+ic_{nimaginary})(\\cos(n\\omega_0t)+i\\sin(n\\omega_0t))$$\n",
    "$$=2c_{nreal}\\cos(n\\omega_0t)-2c_{nimaginary}\\sin(n\\omega_0t)$$\n",
    "\n",
    "When we equate the magnitude of the sine and cosine terms we end up with: \n",
    "$$c_n=\\frac{a_n}{2}-i\\frac{b_n}{2}, n\\neq0$$"
   ]
  },
  {
   "cell_type": "code",
   "execution_count": null,
   "metadata": {},
   "outputs": [],
   "source": [
    "# This space was supposed to see if using the complex fourier series would produce the same result as the trigonometric\n",
    "# series but I was having some trouble with the math portion and I ran out of time."
   ]
  },
  {
   "cell_type": "markdown",
   "metadata": {},
   "source": [
    "# Bibliography"
   ]
  },
  {
   "cell_type": "markdown",
   "metadata": {},
   "source": [
    "1. Cheever, Erik, and Swarthmore College. “Derivation of Fourier Series.” Fourier Series Examples, lpsa.swarthmore.edu/Fourier/Series/DerFS.html.\n",
    "2. Bhatia, Rajendra. Fourier Series. Mathematical Association of America, 2005."
   ]
  },
  {
   "cell_type": "code",
   "execution_count": null,
   "metadata": {},
   "outputs": [],
   "source": []
  }
 ],
 "metadata": {
  "kernelspec": {
   "display_name": "Python 3",
   "language": "python",
   "name": "python3"
  },
  "language_info": {
   "codemirror_mode": {
    "name": "ipython",
    "version": 3
   },
   "file_extension": ".py",
   "mimetype": "text/x-python",
   "name": "python",
   "nbconvert_exporter": "python",
   "pygments_lexer": "ipython3",
   "version": "3.6.5"
  }
 },
 "nbformat": 4,
 "nbformat_minor": 2
}
